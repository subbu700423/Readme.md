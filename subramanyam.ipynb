{
 "cells": [
  {
   "cell_type": "markdown",
   "id": "c5537d18-994e-40a1-85d3-0ae97f533779",
   "metadata": {},
   "source": [
    "# MY JUPYTER NOTEBOOK ON IBM WATSON STUDIO"
   ]
  },
  {
   "cell_type": "markdown",
   "id": "7bd010db-54b1-4914-a81f-5a125c3638f0",
   "metadata": {},
   "source": [
    "**SUBRAMANYAM ALLAM**\n",
    "Data scientist"
   ]
  },
  {
   "cell_type": "markdown",
   "id": "11cc590d-9e58-4e03-a91a-67267c87ce45",
   "metadata": {},
   "source": [
    "_i am interested in data science is because im very curious person and i always believe data is wealth so i wanna use data to make better decisions and help the business_"
   ]
  },
  {
   "cell_type": "markdown",
   "id": "e68d2995-7448-4d34-aa60-9f26b24535fd",
   "metadata": {},
   "source": [
    "### im gonna print my name"
   ]
  },
  {
   "cell_type": "code",
   "execution_count": null,
   "id": "871a2eb6-b173-4e0f-b195-fe964444d466",
   "metadata": {},
   "outputs": [],
   "source": [
    "name = input(\"subramanyam\")\n",
    "print(\"name\")"
   ]
  },
  {
   "cell_type": "markdown",
   "id": "f43aaf92-03b2-4694-9387-05598644efd2",
   "metadata": {},
   "source": [
    "## Bulleted list"
   ]
  },
  {
   "cell_type": "markdown",
   "id": "f068cc6e-0c6b-4d8c-aa76-f77edf1ff0c4",
   "metadata": {},
   "source": [
    "programming languages:\n",
    "* python\n",
    "* java\n",
    "* RUBY\n",
    "* C++\n",
    "* PHP"
   ]
  },
  {
   "cell_type": "markdown",
   "id": "21dc5e4a-af37-4686-a0db-8f10f4fb998b",
   "metadata": {},
   "source": [
    "## Numbered list"
   ]
  },
  {
   "cell_type": "markdown",
   "id": "5f1de155-232f-4a61-b9d2-9f74d6656896",
   "metadata": {},
   "source": [
    "List of continents\n",
    "\n",
    "1.Asia\n",
    "2.Africa\n",
    "3.Europe\n",
    "4.south America\n",
    "5.north America\n",
    "6.Antarctica \n",
    "7.Australia"
   ]
  },
  {
   "cell_type": "markdown",
   "id": "77493287-f8f4-4a3c-aeb8-54af42cf312d",
   "metadata": {},
   "source": [
    "## hyperlinks"
   ]
  },
  {
   "cell_type": "markdown",
   "id": "c8cb5efc-4006-44da-ad9e-c96f39fb9ccf",
   "metadata": {},
   "source": [
    "[youtube](www.youtube.com)"
   ]
  }
 ],
 "metadata": {
  "kernelspec": {
   "display_name": "Python",
   "language": "python",
   "name": "conda-env-python-py"
  },
  "language_info": {
   "codemirror_mode": {
    "name": "ipython",
    "version": 3
   },
   "file_extension": ".py",
   "mimetype": "text/x-python",
   "name": "python",
   "nbconvert_exporter": "python",
   "pygments_lexer": "ipython3",
   "version": "3.7.12"
  }
 },
 "nbformat": 4,
 "nbformat_minor": 5
}
